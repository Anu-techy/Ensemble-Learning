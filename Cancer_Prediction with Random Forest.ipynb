{
 "cells": [
  {
   "cell_type": "markdown",
   "id": "baf2816d-9bb4-41f5-a0cc-28d21076897e",
   "metadata": {},
   "source": [
    "### Problem Statement\n",
    "\n",
    "You are a data scientist / AI engineer at a medical research firm. You have been provided with a dataset named **`\"cancer_data.csv\"`**, which includes medical and lifestyle information for 1500 patients. The dataset is designed to predict the presence of cancer based on various features. The dataset comprises the following columns:\n",
    "\n",
    "- `age:` Integer values representing the patient's age, ranging from 20 to 80.\n",
    "- `gender:` Binary values representing gender, where 0 indicates Male and 1 indicates Female.\n",
    "- `bmi:` Continuous values representing Body Mass Index, ranging from 15 to 40.\n",
    "- `smoking:` Binary values indicating smoking status, where 0 means No and 1 means Yes.\n",
    "- `genetic_risk:` Categorical values representing genetic risk levels for cancer, with 0 indicating Low, 1 indicating Medium, and 2 indicating High.\n",
    "- `physical_activity:` Continuous values representing the number of hours per week spent on physical activities, ranging from 0 to 10.\n",
    "- `alcohol_intake:` Continuous values representing the number of alcohol units consumed per week, ranging from 0 to 5.\n",
    "- `cancer_history:` Binary values indicating whether the patient has a personal history of cancer, where 0 means No and 1 means Yes.\n",
    "- `diagnosis:` Binary values indicating the cancer diagnosis status, where 0 indicates No Cancer and 1 indicates Cancer.\n",
    "\n",
    "  \n",
    "Your task is to use this dataset to build and compare the performance of Decision Tree and Random Forest models to predict the presence of cancer. Additionally, explore various parameters of the RandomForestClassifier to enhance model performance.\n",
    "\n",
    "**Dataset credits:** Rabie El Kharoua (https://www.kaggle.com/datasets/rabieelkharoua/cancer-prediction-dataset)"
   ]
  },
  {
   "cell_type": "code",
   "execution_count": 1,
   "id": "473a0b20-c224-48d3-b72d-0f1c680d2c08",
   "metadata": {},
   "outputs": [
    {
     "data": {
      "text/html": [
       "<div>\n",
       "<style scoped>\n",
       "    .dataframe tbody tr th:only-of-type {\n",
       "        vertical-align: middle;\n",
       "    }\n",
       "\n",
       "    .dataframe tbody tr th {\n",
       "        vertical-align: top;\n",
       "    }\n",
       "\n",
       "    .dataframe thead th {\n",
       "        text-align: right;\n",
       "    }\n",
       "</style>\n",
       "<table border=\"1\" class=\"dataframe\">\n",
       "  <thead>\n",
       "    <tr style=\"text-align: right;\">\n",
       "      <th></th>\n",
       "      <th>age</th>\n",
       "      <th>gender</th>\n",
       "      <th>bmi</th>\n",
       "      <th>smoking</th>\n",
       "      <th>genetic_risk</th>\n",
       "      <th>physical_activity</th>\n",
       "      <th>alcohol_intake</th>\n",
       "      <th>cancer_history</th>\n",
       "      <th>diagnosis</th>\n",
       "    </tr>\n",
       "  </thead>\n",
       "  <tbody>\n",
       "    <tr>\n",
       "      <th>0</th>\n",
       "      <td>58</td>\n",
       "      <td>1</td>\n",
       "      <td>16.085313</td>\n",
       "      <td>0</td>\n",
       "      <td>1</td>\n",
       "      <td>8.146251</td>\n",
       "      <td>4.148219</td>\n",
       "      <td>1</td>\n",
       "      <td>1</td>\n",
       "    </tr>\n",
       "    <tr>\n",
       "      <th>1</th>\n",
       "      <td>71</td>\n",
       "      <td>0</td>\n",
       "      <td>30.828784</td>\n",
       "      <td>0</td>\n",
       "      <td>1</td>\n",
       "      <td>9.361630</td>\n",
       "      <td>3.519683</td>\n",
       "      <td>0</td>\n",
       "      <td>0</td>\n",
       "    </tr>\n",
       "    <tr>\n",
       "      <th>2</th>\n",
       "      <td>48</td>\n",
       "      <td>1</td>\n",
       "      <td>38.785084</td>\n",
       "      <td>0</td>\n",
       "      <td>2</td>\n",
       "      <td>5.135179</td>\n",
       "      <td>4.728368</td>\n",
       "      <td>0</td>\n",
       "      <td>1</td>\n",
       "    </tr>\n",
       "    <tr>\n",
       "      <th>3</th>\n",
       "      <td>34</td>\n",
       "      <td>0</td>\n",
       "      <td>30.040295</td>\n",
       "      <td>0</td>\n",
       "      <td>0</td>\n",
       "      <td>9.502792</td>\n",
       "      <td>2.044636</td>\n",
       "      <td>0</td>\n",
       "      <td>0</td>\n",
       "    </tr>\n",
       "    <tr>\n",
       "      <th>4</th>\n",
       "      <td>62</td>\n",
       "      <td>1</td>\n",
       "      <td>35.479721</td>\n",
       "      <td>0</td>\n",
       "      <td>0</td>\n",
       "      <td>5.356890</td>\n",
       "      <td>3.309849</td>\n",
       "      <td>0</td>\n",
       "      <td>1</td>\n",
       "    </tr>\n",
       "  </tbody>\n",
       "</table>\n",
       "</div>"
      ],
      "text/plain": [
       "   age  gender        bmi  smoking  genetic_risk  physical_activity  \\\n",
       "0   58       1  16.085313        0             1           8.146251   \n",
       "1   71       0  30.828784        0             1           9.361630   \n",
       "2   48       1  38.785084        0             2           5.135179   \n",
       "3   34       0  30.040295        0             0           9.502792   \n",
       "4   62       1  35.479721        0             0           5.356890   \n",
       "\n",
       "   alcohol_intake  cancer_history  diagnosis  \n",
       "0        4.148219               1          1  \n",
       "1        3.519683               0          0  \n",
       "2        4.728368               0          1  \n",
       "3        2.044636               0          0  \n",
       "4        3.309849               0          1  "
      ]
     },
     "execution_count": 1,
     "metadata": {},
     "output_type": "execute_result"
    }
   ],
   "source": [
    "#import necessary libraries\n",
    "import pandas as pd\n",
    "df = pd.read_csv(\"cancer_data.csv\")\n",
    "df.head()"
   ]
  },
  {
   "cell_type": "markdown",
   "id": "a4b44afd-f118-4fd0-b028-4b25ae125514",
   "metadata": {},
   "source": [
    "### Data Preparation and Exploration"
   ]
  },
  {
   "cell_type": "code",
   "execution_count": 3,
   "id": "4ea4c74b-e0e7-4b04-a0e8-969e95549598",
   "metadata": {},
   "outputs": [
    {
     "data": {
      "text/plain": [
       "(1500, 9)"
      ]
     },
     "execution_count": 3,
     "metadata": {},
     "output_type": "execute_result"
    }
   ],
   "source": [
    "df.shape"
   ]
  },
  {
   "cell_type": "code",
   "execution_count": 5,
   "id": "6d1bb675-d45d-458f-b2a7-9d67814a79d8",
   "metadata": {},
   "outputs": [
    {
     "data": {
      "text/plain": [
       "age                  0\n",
       "gender               0\n",
       "bmi                  0\n",
       "smoking              0\n",
       "genetic_risk         0\n",
       "physical_activity    0\n",
       "alcohol_intake       0\n",
       "cancer_history       0\n",
       "diagnosis            0\n",
       "dtype: int64"
      ]
     },
     "execution_count": 5,
     "metadata": {},
     "output_type": "execute_result"
    }
   ],
   "source": [
    "# Check for any missing values in the dataset\n",
    "df.isna().sum()"
   ]
  },
  {
   "cell_type": "markdown",
   "id": "4bf8dd00-9ded-4221-879c-4134bdca63fa",
   "metadata": {},
   "source": [
    "### Model Training Using Decision Tree Classifier"
   ]
  },
  {
   "cell_type": "code",
   "execution_count": 10,
   "id": "c44dbd28-36b0-4b13-aeb0-8fe5adee203c",
   "metadata": {},
   "outputs": [],
   "source": [
    "from sklearn.model_selection import train_test_split\n",
    "\n",
    "X = df[['age', 'gender', 'bmi', 'smoking', 'genetic_risk', 'physical_activity', 'alcohol_intake', 'cancer_history']]\n",
    "y = df['diagnosis']\n",
    "\n",
    "X_train, X_test, y_train, y_test = train_test_split(X, y, test_size=0.25, random_state=42)"
   ]
  },
  {
   "cell_type": "code",
   "execution_count": 12,
   "id": "2d29c0a8-27bc-4619-9e95-eeff3175ca2c",
   "metadata": {},
   "outputs": [
    {
     "name": "stdout",
     "output_type": "stream",
     "text": [
      "              precision    recall  f1-score   support\n",
      "\n",
      "           0       0.90      0.89      0.89       233\n",
      "           1       0.83      0.83      0.83       142\n",
      "\n",
      "    accuracy                           0.87       375\n",
      "   macro avg       0.86      0.86      0.86       375\n",
      "weighted avg       0.87      0.87      0.87       375\n",
      "\n"
     ]
    }
   ],
   "source": [
    "# Initialize and train a Decision Tree Classifier model using the training data        # ifpcr\n",
    "from sklearn.metrics import classification_report\n",
    "from sklearn.tree import DecisionTreeClassifier\n",
    "\n",
    "# Initialize the model\n",
    "dt = DecisionTreeClassifier()\n",
    "\n",
    "# fit the model\n",
    "dt.fit(X_train, y_train)  \n",
    "\n",
    "# Make predictions\n",
    "y_pred = dt.predict(X_test)\n",
    "\n",
    "# classification report\n",
    "cr = classification_report(y_test, y_pred)\n",
    "print(cr)"
   ]
  },
  {
   "cell_type": "markdown",
   "id": "0438dba9-beb8-46fd-91be-a1ad366992d0",
   "metadata": {},
   "source": [
    "### Model Training Using Random Forest Classifier"
   ]
  },
  {
   "cell_type": "code",
   "execution_count": 15,
   "id": "88a74d91-7389-4417-aa60-a2b2b07c2d38",
   "metadata": {},
   "outputs": [
    {
     "name": "stdout",
     "output_type": "stream",
     "text": [
      "              precision    recall  f1-score   support\n",
      "\n",
      "           0       0.92      0.94      0.93       233\n",
      "           1       0.90      0.86      0.88       142\n",
      "\n",
      "    accuracy                           0.91       375\n",
      "   macro avg       0.91      0.90      0.91       375\n",
      "weighted avg       0.91      0.91      0.91       375\n",
      "\n"
     ]
    }
   ],
   "source": [
    "from sklearn.ensemble import RandomForestClassifier\n",
    "\n",
    "# Initialize the model\n",
    "rf = RandomForestClassifier(n_estimators=25)\n",
    "\n",
    "# Fit the model\n",
    "rf.fit(X_train, y_train)\n",
    "\n",
    "# Make predictions using Random Forest, not Decision Tree\n",
    "y_pred = rf.predict(X_test)\n",
    "\n",
    "# Classification report\n",
    "cr = classification_report(y_test, y_pred)\n",
    "print(cr)"
   ]
  },
  {
   "cell_type": "markdown",
   "id": "a1c566bb-c8db-4fc5-a038-7d243403c758",
   "metadata": {},
   "source": [
    "### Exploring Various Parameters in Random Forest Classifier."
   ]
  },
  {
   "cell_type": "code",
   "execution_count": 18,
   "id": "0cd30d45-0ff1-4631-91f4-eb506e444e03",
   "metadata": {},
   "outputs": [
    {
     "name": "stdout",
     "output_type": "stream",
     "text": [
      "              precision    recall  f1-score   support\n",
      "\n",
      "           0       0.93      0.96      0.94       233\n",
      "           1       0.93      0.87      0.90       142\n",
      "\n",
      "    accuracy                           0.93       375\n",
      "   macro avg       0.93      0.92      0.92       375\n",
      "weighted avg       0.93      0.93      0.92       375\n",
      "\n"
     ]
    }
   ],
   "source": [
    "f = RandomForestClassifier(\n",
    "    n_estimators=50,\n",
    "    max_features='log2',\n",
    "    criterion='entropy',\n",
    "    bootstrap=False,\n",
    "    max_depth=15,\n",
    "    min_samples_split=5,\n",
    "    min_samples_leaf=3,\n",
    "    random_state=42  # Optional but helps with reproducibility\n",
    ")\n",
    "\n",
    "# Fit the model\n",
    "rf.fit(X_train, y_train)\n",
    "\n",
    "# Make predictions using Random Forest, not Decision Tree\n",
    "y_pred = rf.predict(X_test)\n",
    "\n",
    "# Classification report\n",
    "cr = classification_report(y_test, y_pred)\n",
    "print(cr)"
   ]
  },
  {
   "cell_type": "code",
   "execution_count": null,
   "id": "ee390e41-e23d-460c-bb28-448ea7053abd",
   "metadata": {},
   "outputs": [],
   "source": [
    "# overall accuracy and recall has improved which is important in this case"
   ]
  }
 ],
 "metadata": {
  "kernelspec": {
   "display_name": "Python [conda env:base] *",
   "language": "python",
   "name": "conda-base-py"
  },
  "language_info": {
   "codemirror_mode": {
    "name": "ipython",
    "version": 3
   },
   "file_extension": ".py",
   "mimetype": "text/x-python",
   "name": "python",
   "nbconvert_exporter": "python",
   "pygments_lexer": "ipython3",
   "version": "3.12.7"
  }
 },
 "nbformat": 4,
 "nbformat_minor": 5
}
